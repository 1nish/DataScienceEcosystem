{
 "cells": [
  {
   "cell_type": "markdown",
   "id": "6eeda17f",
   "metadata": {},
   "source": [
    "# Data Science Tools and Ecosystem"
   ]
  },
  {
   "cell_type": "markdown",
   "id": "a79326d8",
   "metadata": {},
   "source": [
    "In this notebook, we will explore the different ways that one can use a Jupyter Notebook. This will help us understand why Jupyter Notebooks are so widley used in the data science and computer science communities. "
   ]
  },
  {
   "cell_type": "markdown",
   "id": "1556537c",
   "metadata": {},
   "source": [
    "Some of the most popular data science languages include:\n",
    "1. Python\n",
    "2. R\n",
    "3. Julia"
   ]
  },
  {
   "cell_type": "markdown",
   "id": "74b62075",
   "metadata": {},
   "source": [
    "Some popular data science libraries include:\n",
    "1. Pandas (used in python - for data structures)\n",
    "2. ggplot (used in R - for data visualization)\n",
    "3. NumPy (used in Python - for arrays and matrices)"
   ]
  },
  {
   "cell_type": "markdown",
   "id": "fabda4b3",
   "metadata": {},
   "source": [
    "| Data Science Tools |\n",
    "|:--------------------:|\n",
    "| Jupyter |\n",
    "| R Studio |\n",
    "| Apache Spark |"
   ]
  },
  {
   "cell_type": "markdown",
   "id": "6be17a8b",
   "metadata": {},
   "source": [
    "### Here are some examples of Arithmetic expressions in Python\n"
   ]
  },
  {
   "cell_type": "code",
   "execution_count": 1,
   "id": "8c3f0dcd",
   "metadata": {},
   "outputs": [
    {
     "data": {
      "text/plain": [
       "17"
      ]
     },
     "execution_count": 1,
     "metadata": {},
     "output_type": "execute_result"
    }
   ],
   "source": [
    "# This is an example arithmetic expression using multiplication and addition\n",
    "(3*4)+5"
   ]
  },
  {
   "cell_type": "code",
   "execution_count": 17,
   "id": "f73f6075",
   "metadata": {},
   "outputs": [
    {
     "name": "stdout",
     "output_type": "stream",
     "text": [
      "200 minutes equals 3.33 Hours\n"
     ]
    }
   ],
   "source": [
    "# The goal of this exercise is to convert 200 minutes to hours\n",
    "# I created a 'minutes' variable and an 'hours' variable\n",
    "minutes = 200\n",
    "# In the 'hours' variable, I am dividing the # of minutes by 60, and rounding the result to the 2nd decimal\n",
    "hours = round(minutes / 60, 2)\n",
    "print(minutes, \"minutes equals\", hours, \"Hours\")"
   ]
  },
  {
   "cell_type": "markdown",
   "id": "3c87dda7",
   "metadata": {},
   "source": [
    "*Objectives:*\n",
    "- Learn about the power and utility of Jupyter Notebooks \n",
    "- Summarize some of the important open source data science tools that are widley used in the Data Science community\n",
    "- Learn about and eventually learn the most utilized data science languages \n",
    "- be able to get a good enough understanding of these topics and tools so we can use them in the workforce eventually"
   ]
  },
  {
   "cell_type": "markdown",
   "id": "2af7e3c0",
   "metadata": {},
   "source": [
    "## Author\n",
    "Nishant Chatlani"
   ]
  },
  {
   "cell_type": "code",
   "execution_count": null,
   "id": "1f63cb74",
   "metadata": {},
   "outputs": [],
   "source": []
  }
 ],
 "metadata": {
  "kernelspec": {
   "display_name": "Python 3 (ipykernel)",
   "language": "python",
   "name": "python3"
  },
  "language_info": {
   "codemirror_mode": {
    "name": "ipython",
    "version": 3
   },
   "file_extension": ".py",
   "mimetype": "text/x-python",
   "name": "python",
   "nbconvert_exporter": "python",
   "pygments_lexer": "ipython3",
   "version": "3.11.5"
  }
 },
 "nbformat": 4,
 "nbformat_minor": 5
}
